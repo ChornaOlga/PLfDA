{
 "cells": [
  {
   "cell_type": "markdown",
   "id": "6a27e303-2ae5-4dd0-8110-b8987af8bb77",
   "metadata": {
    "id": "CMlGrjWJaMOm"
   },
   "source": [
    "# Завдання - практика з аналізу даних за допомогою пакету Pandas\n",
    "\n",
    "Переглядаючи цей notebook, у певних місцях ви знайдете **???**. Щоб виконати завдання, ви повинні замінити всі **???** відповідними значеннями, виразами або операторами, щоб переконатися, що notebook працює належним чином від початку до кінця.\n",
    "\n",
    "У деяких випадках вам може знадобитися додати деякі клітинки коду або нові оператори до або після рядка коду, що містить **???**."
   ]
  },
  {
   "cell_type": "code",
   "execution_count": null,
   "id": "b15a4446-e2dc-476f-a516-a037fee896e6",
   "metadata": {
    "id": "iOjJd0wuaMOs"
   },
   "outputs": [],
   "source": [
    "import pandas as pd"
   ]
  },
  {
   "cell_type": "markdown",
   "id": "1b795bc2-9f86-4b01-aa2d-464878b43b3b",
   "metadata": {
    "id": "kcoi_EGMaMOv"
   },
   "source": [
    "У цьому завданні ми збираємося оперувати даними з файлу CSV. Почнемо із завантаження файлу CSV."
   ]
  },
  {
   "cell_type": "code",
   "execution_count": null,
   "id": "cec01bff-f17d-49db-9fc2-f0b4d0a8f5eb",
   "metadata": {
    "id": "IlTgO_36aMOx"
   },
   "outputs": [],
   "source": [
    "from urllib.request import urlretrieve\n",
    "\n",
    "urlretrieve('https://hub.jovian.ml/wp-content/uploads/2020/09/countries.csv', \n",
    "            'countries.csv')"
   ]
  },
  {
   "cell_type": "markdown",
   "id": "770f4f51-8a22-4a05-93f5-ed44e5d2aec1",
   "metadata": {
    "id": "KPNMWlgqaMOy"
   },
   "source": [
    "Давайте завантажимо дані з файлу CSV у фрейм даних Pandas."
   ]
  },
  {
   "cell_type": "code",
   "execution_count": null,
   "id": "5f3edc35-3090-4c53-b85b-b2fcc3592073",
   "metadata": {
    "colab": {
     "base_uri": "https://localhost:8080/",
     "height": 380
    },
    "executionInfo": {
     "elapsed": 1804,
     "status": "error",
     "timestamp": 1641305506049,
     "user": {
      "displayName": "Ольга Чорна",
      "photoUrl": "https://lh3.googleusercontent.com/a-/AOh14GilrUp-tJaJxgJItTc-m8RqsSkaUW0UVjdSwqHShg=s64",
      "userId": "04754386631248031019"
     },
     "user_tz": -120
    },
    "id": "0vv7QKJiaMO0",
    "outputId": "f846953d-0e2b-4144-88e8-f384a02cf436"
   },
   "outputs": [
    {
     "ename": "FileNotFoundError",
     "evalue": "ignored",
     "output_type": "error",
     "traceback": [
      "\u001b[0;31m---------------------------------------------------------------------------\u001b[0m",
      "\u001b[0;31mFileNotFoundError\u001b[0m                         Traceback (most recent call last)",
      "\u001b[0;32m<ipython-input-7-6a44cb7a8cdf>\u001b[0m in \u001b[0;36m<module>\u001b[0;34m()\u001b[0m\n\u001b[0;32m----> 1\u001b[0;31m \u001b[0mcountries_df\u001b[0m \u001b[0;34m=\u001b[0m \u001b[0mpd\u001b[0m\u001b[0;34m.\u001b[0m\u001b[0mread_csv\u001b[0m\u001b[0;34m(\u001b[0m\u001b[0;34m'сountries.csv'\u001b[0m\u001b[0;34m)\u001b[0m\u001b[0;34m\u001b[0m\u001b[0;34m\u001b[0m\u001b[0m\n\u001b[0m",
      "\u001b[0;32m/usr/local/lib/python3.7/dist-packages/pandas/io/parsers.py\u001b[0m in \u001b[0;36mread_csv\u001b[0;34m(filepath_or_buffer, sep, delimiter, header, names, index_col, usecols, squeeze, prefix, mangle_dupe_cols, dtype, engine, converters, true_values, false_values, skipinitialspace, skiprows, skipfooter, nrows, na_values, keep_default_na, na_filter, verbose, skip_blank_lines, parse_dates, infer_datetime_format, keep_date_col, date_parser, dayfirst, cache_dates, iterator, chunksize, compression, thousands, decimal, lineterminator, quotechar, quoting, doublequote, escapechar, comment, encoding, dialect, error_bad_lines, warn_bad_lines, delim_whitespace, low_memory, memory_map, float_precision)\u001b[0m\n\u001b[1;32m    686\u001b[0m     )\n\u001b[1;32m    687\u001b[0m \u001b[0;34m\u001b[0m\u001b[0m\n\u001b[0;32m--> 688\u001b[0;31m     \u001b[0;32mreturn\u001b[0m \u001b[0m_read\u001b[0m\u001b[0;34m(\u001b[0m\u001b[0mfilepath_or_buffer\u001b[0m\u001b[0;34m,\u001b[0m \u001b[0mkwds\u001b[0m\u001b[0;34m)\u001b[0m\u001b[0;34m\u001b[0m\u001b[0;34m\u001b[0m\u001b[0m\n\u001b[0m\u001b[1;32m    689\u001b[0m \u001b[0;34m\u001b[0m\u001b[0m\n\u001b[1;32m    690\u001b[0m \u001b[0;34m\u001b[0m\u001b[0m\n",
      "\u001b[0;32m/usr/local/lib/python3.7/dist-packages/pandas/io/parsers.py\u001b[0m in \u001b[0;36m_read\u001b[0;34m(filepath_or_buffer, kwds)\u001b[0m\n\u001b[1;32m    452\u001b[0m \u001b[0;34m\u001b[0m\u001b[0m\n\u001b[1;32m    453\u001b[0m     \u001b[0;31m# Create the parser.\u001b[0m\u001b[0;34m\u001b[0m\u001b[0;34m\u001b[0m\u001b[0;34m\u001b[0m\u001b[0m\n\u001b[0;32m--> 454\u001b[0;31m     \u001b[0mparser\u001b[0m \u001b[0;34m=\u001b[0m \u001b[0mTextFileReader\u001b[0m\u001b[0;34m(\u001b[0m\u001b[0mfp_or_buf\u001b[0m\u001b[0;34m,\u001b[0m \u001b[0;34m**\u001b[0m\u001b[0mkwds\u001b[0m\u001b[0;34m)\u001b[0m\u001b[0;34m\u001b[0m\u001b[0;34m\u001b[0m\u001b[0m\n\u001b[0m\u001b[1;32m    455\u001b[0m \u001b[0;34m\u001b[0m\u001b[0m\n\u001b[1;32m    456\u001b[0m     \u001b[0;32mif\u001b[0m \u001b[0mchunksize\u001b[0m \u001b[0;32mor\u001b[0m \u001b[0miterator\u001b[0m\u001b[0;34m:\u001b[0m\u001b[0;34m\u001b[0m\u001b[0;34m\u001b[0m\u001b[0m\n",
      "\u001b[0;32m/usr/local/lib/python3.7/dist-packages/pandas/io/parsers.py\u001b[0m in \u001b[0;36m__init__\u001b[0;34m(self, f, engine, **kwds)\u001b[0m\n\u001b[1;32m    946\u001b[0m             \u001b[0mself\u001b[0m\u001b[0;34m.\u001b[0m\u001b[0moptions\u001b[0m\u001b[0;34m[\u001b[0m\u001b[0;34m\"has_index_names\"\u001b[0m\u001b[0;34m]\u001b[0m \u001b[0;34m=\u001b[0m \u001b[0mkwds\u001b[0m\u001b[0;34m[\u001b[0m\u001b[0;34m\"has_index_names\"\u001b[0m\u001b[0;34m]\u001b[0m\u001b[0;34m\u001b[0m\u001b[0;34m\u001b[0m\u001b[0m\n\u001b[1;32m    947\u001b[0m \u001b[0;34m\u001b[0m\u001b[0m\n\u001b[0;32m--> 948\u001b[0;31m         \u001b[0mself\u001b[0m\u001b[0;34m.\u001b[0m\u001b[0m_make_engine\u001b[0m\u001b[0;34m(\u001b[0m\u001b[0mself\u001b[0m\u001b[0;34m.\u001b[0m\u001b[0mengine\u001b[0m\u001b[0;34m)\u001b[0m\u001b[0;34m\u001b[0m\u001b[0;34m\u001b[0m\u001b[0m\n\u001b[0m\u001b[1;32m    949\u001b[0m \u001b[0;34m\u001b[0m\u001b[0m\n\u001b[1;32m    950\u001b[0m     \u001b[0;32mdef\u001b[0m \u001b[0mclose\u001b[0m\u001b[0;34m(\u001b[0m\u001b[0mself\u001b[0m\u001b[0;34m)\u001b[0m\u001b[0;34m:\u001b[0m\u001b[0;34m\u001b[0m\u001b[0;34m\u001b[0m\u001b[0m\n",
      "\u001b[0;32m/usr/local/lib/python3.7/dist-packages/pandas/io/parsers.py\u001b[0m in \u001b[0;36m_make_engine\u001b[0;34m(self, engine)\u001b[0m\n\u001b[1;32m   1178\u001b[0m     \u001b[0;32mdef\u001b[0m \u001b[0m_make_engine\u001b[0m\u001b[0;34m(\u001b[0m\u001b[0mself\u001b[0m\u001b[0;34m,\u001b[0m \u001b[0mengine\u001b[0m\u001b[0;34m=\u001b[0m\u001b[0;34m\"c\"\u001b[0m\u001b[0;34m)\u001b[0m\u001b[0;34m:\u001b[0m\u001b[0;34m\u001b[0m\u001b[0;34m\u001b[0m\u001b[0m\n\u001b[1;32m   1179\u001b[0m         \u001b[0;32mif\u001b[0m \u001b[0mengine\u001b[0m \u001b[0;34m==\u001b[0m \u001b[0;34m\"c\"\u001b[0m\u001b[0;34m:\u001b[0m\u001b[0;34m\u001b[0m\u001b[0;34m\u001b[0m\u001b[0m\n\u001b[0;32m-> 1180\u001b[0;31m             \u001b[0mself\u001b[0m\u001b[0;34m.\u001b[0m\u001b[0m_engine\u001b[0m \u001b[0;34m=\u001b[0m \u001b[0mCParserWrapper\u001b[0m\u001b[0;34m(\u001b[0m\u001b[0mself\u001b[0m\u001b[0;34m.\u001b[0m\u001b[0mf\u001b[0m\u001b[0;34m,\u001b[0m \u001b[0;34m**\u001b[0m\u001b[0mself\u001b[0m\u001b[0;34m.\u001b[0m\u001b[0moptions\u001b[0m\u001b[0;34m)\u001b[0m\u001b[0;34m\u001b[0m\u001b[0;34m\u001b[0m\u001b[0m\n\u001b[0m\u001b[1;32m   1181\u001b[0m         \u001b[0;32melse\u001b[0m\u001b[0;34m:\u001b[0m\u001b[0;34m\u001b[0m\u001b[0;34m\u001b[0m\u001b[0m\n\u001b[1;32m   1182\u001b[0m             \u001b[0;32mif\u001b[0m \u001b[0mengine\u001b[0m \u001b[0;34m==\u001b[0m \u001b[0;34m\"python\"\u001b[0m\u001b[0;34m:\u001b[0m\u001b[0;34m\u001b[0m\u001b[0;34m\u001b[0m\u001b[0m\n",
      "\u001b[0;32m/usr/local/lib/python3.7/dist-packages/pandas/io/parsers.py\u001b[0m in \u001b[0;36m__init__\u001b[0;34m(self, src, **kwds)\u001b[0m\n\u001b[1;32m   2008\u001b[0m         \u001b[0mkwds\u001b[0m\u001b[0;34m[\u001b[0m\u001b[0;34m\"usecols\"\u001b[0m\u001b[0;34m]\u001b[0m \u001b[0;34m=\u001b[0m \u001b[0mself\u001b[0m\u001b[0;34m.\u001b[0m\u001b[0musecols\u001b[0m\u001b[0;34m\u001b[0m\u001b[0;34m\u001b[0m\u001b[0m\n\u001b[1;32m   2009\u001b[0m \u001b[0;34m\u001b[0m\u001b[0m\n\u001b[0;32m-> 2010\u001b[0;31m         \u001b[0mself\u001b[0m\u001b[0;34m.\u001b[0m\u001b[0m_reader\u001b[0m \u001b[0;34m=\u001b[0m \u001b[0mparsers\u001b[0m\u001b[0;34m.\u001b[0m\u001b[0mTextReader\u001b[0m\u001b[0;34m(\u001b[0m\u001b[0msrc\u001b[0m\u001b[0;34m,\u001b[0m \u001b[0;34m**\u001b[0m\u001b[0mkwds\u001b[0m\u001b[0;34m)\u001b[0m\u001b[0;34m\u001b[0m\u001b[0;34m\u001b[0m\u001b[0m\n\u001b[0m\u001b[1;32m   2011\u001b[0m         \u001b[0mself\u001b[0m\u001b[0;34m.\u001b[0m\u001b[0munnamed_cols\u001b[0m \u001b[0;34m=\u001b[0m \u001b[0mself\u001b[0m\u001b[0;34m.\u001b[0m\u001b[0m_reader\u001b[0m\u001b[0;34m.\u001b[0m\u001b[0munnamed_cols\u001b[0m\u001b[0;34m\u001b[0m\u001b[0;34m\u001b[0m\u001b[0m\n\u001b[1;32m   2012\u001b[0m \u001b[0;34m\u001b[0m\u001b[0m\n",
      "\u001b[0;32mpandas/_libs/parsers.pyx\u001b[0m in \u001b[0;36mpandas._libs.parsers.TextReader.__cinit__\u001b[0;34m()\u001b[0m\n",
      "\u001b[0;32mpandas/_libs/parsers.pyx\u001b[0m in \u001b[0;36mpandas._libs.parsers.TextReader._setup_parser_source\u001b[0;34m()\u001b[0m\n",
      "\u001b[0;31mFileNotFoundError\u001b[0m: [Errno 2] No such file or directory: 'сountries.csv'"
     ]
    }
   ],
   "source": [
    "countries_df = pd.read_csv('сountries.csv')"
   ]
  },
  {
   "cell_type": "code",
   "execution_count": null,
   "id": "e5a80635-7646-441a-90a8-762a3b0feeec",
   "metadata": {
    "id": "HhrjlK2LaMO1"
   },
   "outputs": [],
   "source": [
    "countries_df"
   ]
  },
  {
   "cell_type": "markdown",
   "id": "1bc58896-41b1-4782-8343-3b337c8b3689",
   "metadata": {
    "id": "BYM_FnnGaMO2"
   },
   "source": [
    "**Q1: How many countries does the dataframe contain?**\n",
    "\n",
    "Hint: Use the `.shape` method."
   ]
  },
  {
   "cell_type": "code",
   "execution_count": null,
   "id": "5456b4c8-7103-485a-8ba2-a3867fa1266a",
   "metadata": {
    "id": "bf-5DBARaMO3"
   },
   "outputs": [],
   "source": [
    "num_countries = ???"
   ]
  },
  {
   "cell_type": "code",
   "execution_count": null,
   "id": "5d56724b-7bd6-490e-b666-5f2b6de3d052",
   "metadata": {
    "id": "shMmWudbaMO6"
   },
   "outputs": [],
   "source": [
    "print('There are {} countries in the dataset'.format(num_countries))"
   ]
  },
  {
   "cell_type": "markdown",
   "id": "65eec717-3fc7-4db3-865a-9728eba90e95",
   "metadata": {
    "id": "5po0F-dCaMO9"
   },
   "source": [
    "**Q2: Retrieve a list of continents from the dataframe?**\n",
    "\n",
    "*Hint: Use the `.unique` method of a series.*"
   ]
  },
  {
   "cell_type": "code",
   "execution_count": null,
   "id": "a7eab205-0708-4c9b-9c75-6f1b4df7a060",
   "metadata": {
    "id": "kNKpQKyiaMO_"
   },
   "outputs": [],
   "source": [
    "continents = ???"
   ]
  },
  {
   "cell_type": "code",
   "execution_count": null,
   "id": "03fc0819-828c-403a-a2c2-2ca74dbc1b84",
   "metadata": {
    "id": "Yjgky9DyaMPB"
   },
   "outputs": [],
   "source": [
    "continents"
   ]
  },
  {
   "cell_type": "markdown",
   "id": "d6665ff5-f710-449a-8b20-3578f10e9e99",
   "metadata": {
    "id": "SBE7MBFLaMPC"
   },
   "source": [
    "**Q3: What is the total population of all the countries listed in this dataset?**"
   ]
  },
  {
   "cell_type": "code",
   "execution_count": null,
   "id": "bcbd35ac-f282-47b7-a164-2b5f9290d04c",
   "metadata": {
    "id": "toy6wfyBaMPD"
   },
   "outputs": [],
   "source": [
    "total_population = ???"
   ]
  },
  {
   "cell_type": "code",
   "execution_count": null,
   "id": "865495ed-27b8-44f1-b0e7-8bd3fc324ab6",
   "metadata": {
    "id": "C1XY4-43aMPE"
   },
   "outputs": [],
   "source": [
    "print('The total population is {}.'.format(int(total_population)))"
   ]
  },
  {
   "cell_type": "markdown",
   "id": "996fc944-fec1-4015-92f7-3a4852b9f898",
   "metadata": {
    "id": "IOmPgFbwaMPF"
   },
   "source": [
    "**Q4:What is the overall life expectancy across in the world?**\n",
    "\n",
    "*Hint: You'll need to take a weighted average of life expectancy using populations as weights.*"
   ]
  },
  {
   "cell_type": "code",
   "execution_count": null,
   "id": "0777e75a-6b76-4081-a63b-002cbbda8d1f",
   "metadata": {
    "id": "1rdp8ZObaMPH"
   },
   "outputs": [],
   "source": []
  },
  {
   "cell_type": "code",
   "execution_count": null,
   "id": "33082b27-4634-4a75-8a7b-41d147172716",
   "metadata": {
    "id": "1RsJlGZ3aMPI"
   },
   "outputs": [],
   "source": []
  },
  {
   "cell_type": "markdown",
   "id": "34c2e45d-dc94-46db-abc5-e99b20d429ad",
   "metadata": {
    "id": "LOFw7QQ4aMPJ"
   },
   "source": [
    "**Q5: Create a dataframe containing 10 countries with the highest population.**\n",
    "\n",
    "*Hint: Chain the `sort_values` and `head` methods.*"
   ]
  },
  {
   "cell_type": "code",
   "execution_count": null,
   "id": "dc6daa91-d405-4ffd-88f2-eeca92044e1f",
   "metadata": {
    "id": "5UosCKWYaMPK"
   },
   "outputs": [],
   "source": [
    "most_populous_df = ???"
   ]
  },
  {
   "cell_type": "code",
   "execution_count": null,
   "id": "3d0071d0-57f8-4eca-91c6-ccb61a0e0935",
   "metadata": {
    "id": "u5VGVQd_aMPL"
   },
   "outputs": [],
   "source": [
    "most_populous_df"
   ]
  },
  {
   "cell_type": "markdown",
   "id": "2ad502df-ce43-40ae-9c7e-69bdab3af070",
   "metadata": {
    "id": "MmKoTLHJaMPM"
   },
   "source": [
    "**Q6: Add a new column in `countries_df` to record the overall GDP per country (product of population & per capita GDP).**\n",
    "\n"
   ]
  },
  {
   "cell_type": "code",
   "execution_count": null,
   "id": "6fc0ad7f-eb48-4fac-a989-17c99c22c986",
   "metadata": {
    "id": "tPGDOLsaaMPN"
   },
   "outputs": [],
   "source": [
    "countries_df['gdp'] = ???"
   ]
  },
  {
   "cell_type": "code",
   "execution_count": null,
   "id": "7c31a7b0-9556-4f69-9caa-b023709cbb4e",
   "metadata": {
    "id": "4gQQyZ80aMPO"
   },
   "outputs": [],
   "source": [
    "countries_df"
   ]
  },
  {
   "cell_type": "markdown",
   "id": "5c9f0e66-44fe-4da6-a3f6-8b05d8ce91ce",
   "metadata": {
    "id": "5T8ZpIbVaMPQ"
   },
   "source": [
    "**Q7: Create a dataframe containing 10 countries with the lowest GDP per capita, among the counties with population greater than 100 million.**"
   ]
  },
  {
   "cell_type": "code",
   "execution_count": null,
   "id": "874ee191-f53d-4ef9-a524-b03605caad7c",
   "metadata": {
    "id": "UIu1qvhJaMPR"
   },
   "outputs": [],
   "source": []
  },
  {
   "cell_type": "code",
   "execution_count": null,
   "id": "967aa9b0-ac9d-4a01-864b-0b434724ed22",
   "metadata": {
    "id": "u0dwKNOtaMPS"
   },
   "outputs": [],
   "source": []
  },
  {
   "cell_type": "markdown",
   "id": "a38f962c-26b0-4320-8093-636adad6cf67",
   "metadata": {
    "id": "h7hvmWfxaMPS"
   },
   "source": [
    "**Q8: Create a data frame that counts the number countries in each continent?**\n",
    "\n",
    "*Hint: Use `groupby`, select the `location` column and aggregate using `count`.*"
   ]
  },
  {
   "cell_type": "code",
   "execution_count": null,
   "id": "949d4dee-51fb-42a5-ab34-b47588b065b9",
   "metadata": {
    "id": "0RCJmSLNaMPT"
   },
   "outputs": [],
   "source": [
    "country_counts_df = ???"
   ]
  },
  {
   "cell_type": "code",
   "execution_count": null,
   "id": "2d18180f-c404-45aa-aebf-f7ee50a73d03",
   "metadata": {
    "id": "M8ftRweTaMPU"
   },
   "outputs": [],
   "source": [
    "country_counts_df"
   ]
  },
  {
   "cell_type": "markdown",
   "id": "4f3d0e44-2231-45b3-9e58-71d6a70422e8",
   "metadata": {
    "id": "iIQbtCz1aMPU"
   },
   "source": [
    "**Q9: Create a data frame showing the total population of each continent.**\n",
    "\n",
    "*Hint: Use `groupby`, select the population column and aggregate using `sum`.*"
   ]
  },
  {
   "cell_type": "code",
   "execution_count": null,
   "id": "3a55584c-6f82-4ac9-b455-ae8e4972790f",
   "metadata": {
    "id": "TcvS4f_gaMPV"
   },
   "outputs": [],
   "source": [
    "continent_populations_df = ???"
   ]
  },
  {
   "cell_type": "code",
   "execution_count": null,
   "id": "ce3df431-a1e3-4ee6-b811-e0735add43f6",
   "metadata": {
    "id": "rOnvFkUZaMPW"
   },
   "outputs": [],
   "source": [
    "continent_populations_df"
   ]
  },
  {
   "cell_type": "markdown",
   "id": "4d1008f8-a0b5-4671-9728-5c1702d93793",
   "metadata": {
    "id": "0p6fvIjCaMPW"
   },
   "source": [
    "Let's download another CSV file containing overall Covid-19 stats for various countires, and read the data into another Pandas data frame."
   ]
  },
  {
   "cell_type": "code",
   "execution_count": null,
   "id": "e124d933-5c49-498d-b186-7323746df588",
   "metadata": {
    "id": "menTSQp4aMPY"
   },
   "outputs": [],
   "source": [
    "urlretrieve('https://hub.jovian.ml/wp-content/uploads/2020/09/covid-countries-data.csv', \n",
    "            'covid-countries-data.csv')"
   ]
  },
  {
   "cell_type": "code",
   "execution_count": null,
   "id": "251d4742-66a5-492a-88fc-8160b98afa7c",
   "metadata": {
    "id": "kM4SIkZ5aMPY"
   },
   "outputs": [],
   "source": [
    "covid_data_df = pd.read_csv('covid-countries-data.csv')"
   ]
  },
  {
   "cell_type": "code",
   "execution_count": null,
   "id": "a87882f1-52c9-4080-9808-a157df12be28",
   "metadata": {
    "id": "ZU8lpvZRaMPZ",
    "scrolled": true
   },
   "outputs": [],
   "source": [
    "covid_data_df"
   ]
  },
  {
   "cell_type": "markdown",
   "id": "a1d1c3ee-11b9-403c-8a86-8e9225b0d815",
   "metadata": {
    "id": "3YFK_JdZaMPZ"
   },
   "source": [
    "**Q10: Count the number of countries for which the `total_tests` data is missing.**\n",
    "\n",
    "*Hint: Use the `.isna` method.*"
   ]
  },
  {
   "cell_type": "code",
   "execution_count": null,
   "id": "0291a650-aa07-4ee1-9e20-b44d9b7d4f40",
   "metadata": {
    "id": "-67O1oxkaMPa"
   },
   "outputs": [],
   "source": [
    "total_tests_missing = ???"
   ]
  },
  {
   "cell_type": "code",
   "execution_count": null,
   "id": "33af4875-5eb1-45c3-ba37-0c213eff0512",
   "metadata": {
    "id": "NMcGX28OaMPa"
   },
   "outputs": [],
   "source": [
    "print(\"The data for total tests is missing for {} countries.\".format(int(total_tests_missing)))"
   ]
  },
  {
   "cell_type": "markdown",
   "id": "c4fd43ad-ccec-40e5-acb2-f6154e28eaa4",
   "metadata": {
    "id": "lZLDPY0YaMPb"
   },
   "source": [
    "Let's merge the two data frames, and compute some more metrics.\n",
    "\n",
    "**Q11: Merge `countries_df` with `covid_data_df` on the `location` column.**\n",
    "\n",
    "*Hint: Use the `.merge` method on `countries_df`."
   ]
  },
  {
   "cell_type": "code",
   "execution_count": null,
   "id": "59fb3091-d014-47e0-92d6-789b747f9b5f",
   "metadata": {
    "id": "ffwL_hZhaMPb"
   },
   "outputs": [],
   "source": [
    "combined_df = ???"
   ]
  },
  {
   "cell_type": "code",
   "execution_count": null,
   "id": "79fa44f9-0654-427b-aaef-aae7f9083275",
   "metadata": {
    "id": "j9L2NQ78aMPb"
   },
   "outputs": [],
   "source": [
    "combined_df"
   ]
  },
  {
   "cell_type": "markdown",
   "id": "a847a61b-d994-4341-a8a2-6a6845d002f3",
   "metadata": {
    "id": "qO96kqm3aMPc"
   },
   "source": [
    "**Q12: Add columns `tests_per_million`, `cases_per_million` and `deaths_per_million` into `combined_df`.**"
   ]
  },
  {
   "cell_type": "code",
   "execution_count": null,
   "id": "9ba517ac-4846-4ab1-ab55-81da6abd63db",
   "metadata": {
    "id": "NdwGsmdmaMPc"
   },
   "outputs": [],
   "source": [
    "combined_df['tests_per_million'] = combined_df['total_tests'] * 1e6 / combined_df['population']"
   ]
  },
  {
   "cell_type": "code",
   "execution_count": null,
   "id": "0cb1bd3c-e285-4255-a96e-2ec1e13a5165",
   "metadata": {
    "id": "orkd6IKdaMPc"
   },
   "outputs": [],
   "source": [
    "combined_df['cases_per_million'] = ???"
   ]
  },
  {
   "cell_type": "code",
   "execution_count": null,
   "id": "cd1e810a-6616-439e-8cba-11da1af0eaaa",
   "metadata": {
    "id": "_CxnEo6baMPd"
   },
   "outputs": [],
   "source": [
    "combined_df['deaths_per_million'] = ???"
   ]
  },
  {
   "cell_type": "code",
   "execution_count": null,
   "id": "39d39802-8853-4abe-983f-c1b128732de2",
   "metadata": {
    "id": "bkoxKiZzaMPd"
   },
   "outputs": [],
   "source": [
    "combined_df"
   ]
  },
  {
   "cell_type": "markdown",
   "id": "f37bffa1-741e-4322-bb8a-2e91c43b4fdf",
   "metadata": {
    "id": "CfHpIV-SaMPe"
   },
   "source": [
    "**Q13: Create a dataframe with 10 countires that have highest number of tests per million people.**"
   ]
  },
  {
   "cell_type": "code",
   "execution_count": null,
   "id": "87bb55eb-e8d0-4bc4-860b-70f4013e21b1",
   "metadata": {
    "id": "P72cqC_TaMPe"
   },
   "outputs": [],
   "source": [
    "highest_tests_df = ???"
   ]
  },
  {
   "cell_type": "code",
   "execution_count": null,
   "id": "3556d226-74e9-496e-941c-1c0c5a68a2fc",
   "metadata": {
    "id": "EYiIkQZbaMPf"
   },
   "outputs": [],
   "source": [
    "highest_tests_df"
   ]
  },
  {
   "cell_type": "markdown",
   "id": "ccdaded8-3723-498d-ba6b-9027fd727f7b",
   "metadata": {
    "id": "OzYh5xEdaMPf"
   },
   "source": [
    "**Q14: Create a dataframe with 10 countires that have highest number of positive cases per million people.**"
   ]
  },
  {
   "cell_type": "code",
   "execution_count": null,
   "id": "8b548545-4616-4ed6-a9c2-6b292889c704",
   "metadata": {
    "id": "VJZfu8qzaMPg"
   },
   "outputs": [],
   "source": [
    "highest_cases_df = ???"
   ]
  },
  {
   "cell_type": "code",
   "execution_count": null,
   "id": "6ba10743-ae3c-48b1-9d67-758d1f567c43",
   "metadata": {
    "id": "dYLQ_aBJaMPg"
   },
   "outputs": [],
   "source": [
    "highest_cases_df"
   ]
  },
  {
   "cell_type": "markdown",
   "id": "1016ae03-8a50-4a30-ba3f-1371620919e7",
   "metadata": {
    "id": "aMEbwkyMaMPh"
   },
   "source": [
    "**Q15: Create a dataframe with 10 countires that have highest number of deaths cases per million people?**"
   ]
  },
  {
   "cell_type": "code",
   "execution_count": null,
   "id": "b369aabd-d1f2-497e-946f-390b769af23d",
   "metadata": {
    "id": "c8T9WkEAaMPh"
   },
   "outputs": [],
   "source": [
    "highest_deaths_df = ???"
   ]
  },
  {
   "cell_type": "code",
   "execution_count": null,
   "id": "551ea2a8-38e4-4765-b968-549e0767d180",
   "metadata": {
    "id": "8zoQgtgCaMPh"
   },
   "outputs": [],
   "source": [
    "highest_deaths_df"
   ]
  },
  {
   "cell_type": "markdown",
   "id": "b5784d1b-7746-40c6-b4a2-ab92c2d90484",
   "metadata": {
    "id": "eDpZfqGLaMPi"
   },
   "source": [
    "**Q16: Count number of countries that feature in both the lists of \"highest number of tests per million\" and \"highest number of cases per million\".**"
   ]
  },
  {
   "cell_type": "code",
   "execution_count": null,
   "id": "a633f60c-586e-48a4-9580-e957b59af34f",
   "metadata": {
    "id": "7X3vh5qFaMPi"
   },
   "outputs": [],
   "source": []
  },
  {
   "cell_type": "code",
   "execution_count": null,
   "id": "0966eb6e-a016-4a65-bd22-c02d36f7bead",
   "metadata": {
    "id": "36MnSio9aMPj"
   },
   "outputs": [],
   "source": []
  },
  {
   "cell_type": "code",
   "execution_count": null,
   "id": "05f837a5-4d17-4e36-8c2d-989fb0458061",
   "metadata": {
    "id": "7BKu5yR1aMPj"
   },
   "outputs": [],
   "source": []
  },
  {
   "cell_type": "markdown",
   "id": "0b943431-93fc-4b22-b004-9973e28ffc5f",
   "metadata": {
    "id": "IsydTTbMaMPj"
   },
   "source": [
    "**Q17: Count number of countries that feature in both the lists \"20 countries with lowest GDP per capita\" and \"20 countries with the lowest number of hospital beds per thousand population\". Only consider countries with a population higher than 10 million while creating the list.**"
   ]
  },
  {
   "cell_type": "code",
   "execution_count": null,
   "id": "89f95961-8cd2-4dc0-8938-b0ac197bc415",
   "metadata": {
    "id": "vpzw37teaMPk"
   },
   "outputs": [],
   "source": []
  },
  {
   "cell_type": "code",
   "execution_count": null,
   "id": "924290a2-8f6a-480c-8404-7d0b1d38d903",
   "metadata": {
    "id": "ESYQg_b1aMPk"
   },
   "outputs": [],
   "source": []
  },
  {
   "cell_type": "code",
   "execution_count": null,
   "id": "f87a0ce7-90e4-4d24-a206-7488777af04a",
   "metadata": {
    "id": "Wo6woWb8aMPl"
   },
   "outputs": [],
   "source": []
  },
  {
   "cell_type": "code",
   "execution_count": null,
   "id": "ba44d617-ba5d-412d-acbb-55114d8e9a83",
   "metadata": {
    "id": "RuutXCuQaMPl"
   },
   "outputs": [],
   "source": []
  }
 ],
 "metadata": {
  "kernelspec": {
   "display_name": "Python 3 (ipykernel)",
   "language": "python",
   "name": "python3"
  },
  "language_info": {
   "codemirror_mode": {
    "name": "ipython",
    "version": 3
   },
   "file_extension": ".py",
   "mimetype": "text/x-python",
   "name": "python",
   "nbconvert_exporter": "python",
   "pygments_lexer": "ipython3",
   "version": "3.9.7"
  }
 },
 "nbformat": 4,
 "nbformat_minor": 5
}
